{
  "nbformat": 4,
  "nbformat_minor": 0,
  "metadata": {
    "colab": {
      "provenance": [],
      "authorship_tag": "ABX9TyN0BxpiOS4cNABET9xKcPHk",
      "include_colab_link": true
    },
    "kernelspec": {
      "name": "python3",
      "display_name": "Python 3"
    },
    "language_info": {
      "name": "python"
    }
  },
  "cells": [
    {
      "cell_type": "markdown",
      "metadata": {
        "id": "view-in-github",
        "colab_type": "text"
      },
      "source": [
        "<a href=\"https://colab.research.google.com/github/PawelJakubczyk/mln_see_animals_classifier/blob/main/mnl_see_animals_model.ipynb\" target=\"_parent\"><img src=\"https://colab.research.google.com/assets/colab-badge.svg\" alt=\"Open In Colab\"/></a>"
      ]
    },
    {
      "cell_type": "markdown",
      "source": [
        "# Sorce"
      ],
      "metadata": {
        "id": "YnWkHJCOKehn"
      }
    },
    {
      "cell_type": "markdown",
      "source": [
        "https://www.kaggle.com/datasets/vencerlanz09/sea-animals-image-dataste?select=Jelly+Fish"
      ],
      "metadata": {
        "id": "j4PItfyFhVpm"
      }
    },
    {
      "cell_type": "markdown",
      "source": [
        "# Install Libraries"
      ],
      "metadata": {
        "id": "5b6sPIznN6zK"
      }
    },
    {
      "cell_type": "code",
      "source": [
        "%pip install tensorflow\n",
        "%pip install keras\n",
        "%pip install keras_preprocessing"
      ],
      "metadata": {
        "colab": {
          "base_uri": "https://localhost:8080/"
        },
        "id": "2WRj52XnN7rV",
        "outputId": "9959ceca-6ef3-4285-d69a-8b9eea8d1f9e"
      },
      "execution_count": 1,
      "outputs": [
        {
          "output_type": "stream",
          "name": "stdout",
          "text": [
            "Requirement already satisfied: tensorflow in /usr/local/lib/python3.10/dist-packages (2.15.0)\n",
            "Requirement already satisfied: absl-py>=1.0.0 in /usr/local/lib/python3.10/dist-packages (from tensorflow) (1.4.0)\n",
            "Requirement already satisfied: astunparse>=1.6.0 in /usr/local/lib/python3.10/dist-packages (from tensorflow) (1.6.3)\n",
            "Requirement already satisfied: flatbuffers>=23.5.26 in /usr/local/lib/python3.10/dist-packages (from tensorflow) (23.5.26)\n",
            "Requirement already satisfied: gast!=0.5.0,!=0.5.1,!=0.5.2,>=0.2.1 in /usr/local/lib/python3.10/dist-packages (from tensorflow) (0.5.4)\n",
            "Requirement already satisfied: google-pasta>=0.1.1 in /usr/local/lib/python3.10/dist-packages (from tensorflow) (0.2.0)\n",
            "Requirement already satisfied: h5py>=2.9.0 in /usr/local/lib/python3.10/dist-packages (from tensorflow) (3.9.0)\n",
            "Requirement already satisfied: libclang>=13.0.0 in /usr/local/lib/python3.10/dist-packages (from tensorflow) (16.0.6)\n",
            "Requirement already satisfied: ml-dtypes~=0.2.0 in /usr/local/lib/python3.10/dist-packages (from tensorflow) (0.2.0)\n",
            "Requirement already satisfied: numpy<2.0.0,>=1.23.5 in /usr/local/lib/python3.10/dist-packages (from tensorflow) (1.25.2)\n",
            "Requirement already satisfied: opt-einsum>=2.3.2 in /usr/local/lib/python3.10/dist-packages (from tensorflow) (3.3.0)\n",
            "Requirement already satisfied: packaging in /usr/local/lib/python3.10/dist-packages (from tensorflow) (23.2)\n",
            "Requirement already satisfied: protobuf!=4.21.0,!=4.21.1,!=4.21.2,!=4.21.3,!=4.21.4,!=4.21.5,<5.0.0dev,>=3.20.3 in /usr/local/lib/python3.10/dist-packages (from tensorflow) (3.20.3)\n",
            "Requirement already satisfied: setuptools in /usr/local/lib/python3.10/dist-packages (from tensorflow) (67.7.2)\n",
            "Requirement already satisfied: six>=1.12.0 in /usr/local/lib/python3.10/dist-packages (from tensorflow) (1.16.0)\n",
            "Requirement already satisfied: termcolor>=1.1.0 in /usr/local/lib/python3.10/dist-packages (from tensorflow) (2.4.0)\n",
            "Requirement already satisfied: typing-extensions>=3.6.6 in /usr/local/lib/python3.10/dist-packages (from tensorflow) (4.9.0)\n",
            "Requirement already satisfied: wrapt<1.15,>=1.11.0 in /usr/local/lib/python3.10/dist-packages (from tensorflow) (1.14.1)\n",
            "Requirement already satisfied: tensorflow-io-gcs-filesystem>=0.23.1 in /usr/local/lib/python3.10/dist-packages (from tensorflow) (0.36.0)\n",
            "Requirement already satisfied: grpcio<2.0,>=1.24.3 in /usr/local/lib/python3.10/dist-packages (from tensorflow) (1.60.1)\n",
            "Requirement already satisfied: tensorboard<2.16,>=2.15 in /usr/local/lib/python3.10/dist-packages (from tensorflow) (2.15.2)\n",
            "Requirement already satisfied: tensorflow-estimator<2.16,>=2.15.0 in /usr/local/lib/python3.10/dist-packages (from tensorflow) (2.15.0)\n",
            "Requirement already satisfied: keras<2.16,>=2.15.0 in /usr/local/lib/python3.10/dist-packages (from tensorflow) (2.15.0)\n",
            "Requirement already satisfied: wheel<1.0,>=0.23.0 in /usr/local/lib/python3.10/dist-packages (from astunparse>=1.6.0->tensorflow) (0.42.0)\n",
            "Requirement already satisfied: google-auth<3,>=1.6.3 in /usr/local/lib/python3.10/dist-packages (from tensorboard<2.16,>=2.15->tensorflow) (2.27.0)\n",
            "Requirement already satisfied: google-auth-oauthlib<2,>=0.5 in /usr/local/lib/python3.10/dist-packages (from tensorboard<2.16,>=2.15->tensorflow) (1.2.0)\n",
            "Requirement already satisfied: markdown>=2.6.8 in /usr/local/lib/python3.10/dist-packages (from tensorboard<2.16,>=2.15->tensorflow) (3.5.2)\n",
            "Requirement already satisfied: requests<3,>=2.21.0 in /usr/local/lib/python3.10/dist-packages (from tensorboard<2.16,>=2.15->tensorflow) (2.31.0)\n",
            "Requirement already satisfied: tensorboard-data-server<0.8.0,>=0.7.0 in /usr/local/lib/python3.10/dist-packages (from tensorboard<2.16,>=2.15->tensorflow) (0.7.2)\n",
            "Requirement already satisfied: werkzeug>=1.0.1 in /usr/local/lib/python3.10/dist-packages (from tensorboard<2.16,>=2.15->tensorflow) (3.0.1)\n",
            "Requirement already satisfied: cachetools<6.0,>=2.0.0 in /usr/local/lib/python3.10/dist-packages (from google-auth<3,>=1.6.3->tensorboard<2.16,>=2.15->tensorflow) (5.3.2)\n",
            "Requirement already satisfied: pyasn1-modules>=0.2.1 in /usr/local/lib/python3.10/dist-packages (from google-auth<3,>=1.6.3->tensorboard<2.16,>=2.15->tensorflow) (0.3.0)\n",
            "Requirement already satisfied: rsa<5,>=3.1.4 in /usr/local/lib/python3.10/dist-packages (from google-auth<3,>=1.6.3->tensorboard<2.16,>=2.15->tensorflow) (4.9)\n",
            "Requirement already satisfied: requests-oauthlib>=0.7.0 in /usr/local/lib/python3.10/dist-packages (from google-auth-oauthlib<2,>=0.5->tensorboard<2.16,>=2.15->tensorflow) (1.3.1)\n",
            "Requirement already satisfied: charset-normalizer<4,>=2 in /usr/local/lib/python3.10/dist-packages (from requests<3,>=2.21.0->tensorboard<2.16,>=2.15->tensorflow) (3.3.2)\n",
            "Requirement already satisfied: idna<4,>=2.5 in /usr/local/lib/python3.10/dist-packages (from requests<3,>=2.21.0->tensorboard<2.16,>=2.15->tensorflow) (3.6)\n",
            "Requirement already satisfied: urllib3<3,>=1.21.1 in /usr/local/lib/python3.10/dist-packages (from requests<3,>=2.21.0->tensorboard<2.16,>=2.15->tensorflow) (2.0.7)\n",
            "Requirement already satisfied: certifi>=2017.4.17 in /usr/local/lib/python3.10/dist-packages (from requests<3,>=2.21.0->tensorboard<2.16,>=2.15->tensorflow) (2024.2.2)\n",
            "Requirement already satisfied: MarkupSafe>=2.1.1 in /usr/local/lib/python3.10/dist-packages (from werkzeug>=1.0.1->tensorboard<2.16,>=2.15->tensorflow) (2.1.5)\n",
            "Requirement already satisfied: pyasn1<0.6.0,>=0.4.6 in /usr/local/lib/python3.10/dist-packages (from pyasn1-modules>=0.2.1->google-auth<3,>=1.6.3->tensorboard<2.16,>=2.15->tensorflow) (0.5.1)\n",
            "Requirement already satisfied: oauthlib>=3.0.0 in /usr/local/lib/python3.10/dist-packages (from requests-oauthlib>=0.7.0->google-auth-oauthlib<2,>=0.5->tensorboard<2.16,>=2.15->tensorflow) (3.2.2)\n",
            "Requirement already satisfied: keras in /usr/local/lib/python3.10/dist-packages (2.15.0)\n",
            "Collecting keras_preprocessing\n",
            "  Downloading Keras_Preprocessing-1.1.2-py2.py3-none-any.whl (42 kB)\n",
            "\u001b[2K     \u001b[90m━━━━━━━━━━━━━━━━━━━━━━━━━━━━━━━━━━━━━━━━\u001b[0m \u001b[32m42.6/42.6 kB\u001b[0m \u001b[31m1.6 MB/s\u001b[0m eta \u001b[36m0:00:00\u001b[0m\n",
            "\u001b[?25hRequirement already satisfied: numpy>=1.9.1 in /usr/local/lib/python3.10/dist-packages (from keras_preprocessing) (1.25.2)\n",
            "Requirement already satisfied: six>=1.9.0 in /usr/local/lib/python3.10/dist-packages (from keras_preprocessing) (1.16.0)\n",
            "Installing collected packages: keras_preprocessing\n",
            "Successfully installed keras_preprocessing-1.1.2\n"
          ]
        }
      ]
    },
    {
      "cell_type": "markdown",
      "source": [
        "# Import Libraries"
      ],
      "metadata": {
        "id": "4hWinZ5vOIvi"
      }
    },
    {
      "cell_type": "code",
      "source": [
        "# Import Data Science Libraries\n",
        "import numpy as np\n",
        "import pandas as pd\n",
        "import tensorflow as tf\n",
        "from sklearn.model_selection import train_test_split\n",
        "import itertools\n",
        "import random\n",
        "\n",
        "# Import visualization libraries\n",
        "import matplotlib.pyplot as plt\n",
        "import matplotlib.cm as cm\n",
        "import cv2\n",
        "import seaborn as sns\n",
        "\n",
        "# Tensorflow Libraries\n",
        "from tensorflow import keras\n",
        "from tensorflow.keras import layers,models\n",
        "from keras_preprocessing.image import ImageDataGenerator\n",
        "from keras.layers import Dense, Dropout\n",
        "from tensorflow.keras.callbacks import Callback, EarlyStopping,ModelCheckpoint\n",
        "from tensorflow.keras.optimizers import Adam\n",
        "from tensorflow.keras.applications import MobileNetV2\n",
        "from tensorflow.keras import Model\n",
        "from tensorflow.keras.layers.experimental import preprocessing\n",
        "\n",
        "# System libraries\n",
        "from pathlib import Path\n",
        "import os.path\n",
        "from google.colab import drive\n",
        "\n",
        "# Metrics\n",
        "from sklearn.metrics import classification_report, confusion_matrix\n",
        "sns.set_style('darkgrid')\n",
        "\n"
      ],
      "metadata": {
        "id": "4kV1OJ8eOHe3"
      },
      "execution_count": 2,
      "outputs": []
    },
    {
      "cell_type": "markdown",
      "source": [
        "# Definine Function"
      ],
      "metadata": {
        "id": "_jZ-0LaL-QbY"
      }
    },
    {
      "cell_type": "code",
      "source": [
        "def create_category_image_path_dataframe(folder_path):\n",
        "    data = []\n",
        "    for category in os.listdir(folder_path):\n",
        "        category_path = os.path.join(folder_path, category)\n",
        "        if os.path.isdir(category_path):\n",
        "            for filename in os.listdir(category_path):\n",
        "                if filename.lower().endswith(('.jpg', '.jpeg', '.png')):\n",
        "                    image_path = os.path.join(category_path, filename)\n",
        "                    data.append({'Category': category, 'Image_Path': image_path})\n",
        "    df = pd.DataFrame(data)\n",
        "    df['Image_Path'] = df['Image_Path'].apply(lambda x: os.path.abspath(x))\n",
        "    return df"
      ],
      "metadata": {
        "id": "cCiTewry-VAL"
      },
      "execution_count": 3,
      "outputs": []
    },
    {
      "cell_type": "markdown",
      "source": [
        "## Augumentation"
      ],
      "metadata": {
        "id": "SdwEA-g1EUrf"
      }
    },
    {
      "cell_type": "code",
      "source": [
        "def balance_dataframe_by_record_reduction(df):\n",
        "    # Calculate the minimum number of records in a category\n",
        "    min_records = df['Category'].value_counts().min()\n",
        "\n",
        "    # Function to remove random records from a group\n",
        "    def remove_random_records(group):\n",
        "        return group.sample(n=min_records, random_state=42)\n",
        "\n",
        "    # Remove random records from the DataFrame\n",
        "    df_balanced = df.groupby('Category', group_keys=False).apply(remove_random_records)\n",
        "\n",
        "    return df_balanced\n",
        "\n",
        "def rotate_image(image, angle):\n",
        "    \"\"\"Rotate the input image by the given angle (in degrees).\"\"\"\n",
        "    # Get the image dimensions\n",
        "    height, width = image.shape[:2]\n",
        "    # Calculate the rotation matrix\n",
        "    rotation_matrix = cv2.getRotationMatrix2D((width / 2, height / 2), angle, 1)\n",
        "    # Apply the rotation to the image\n",
        "    rotated_image = cv2.warpAffine(image, rotation_matrix, (width, height))\n",
        "    return rotated_image"
      ],
      "metadata": {
        "id": "SHI12vO2EXvl"
      },
      "execution_count": 4,
      "outputs": []
    },
    {
      "cell_type": "markdown",
      "source": [
        "    Rotacja: Obracanie obrazu o losowy kąt może pomóc w zwiększeniu różnorodności danych.\n",
        "\n",
        "    Przesunięcie poziome/ pionowe: Przesunięcie obrazu w poziomie lub pionie może pomóc w zwiększeniu tolerancji na translację.\n",
        "\n",
        "    Zoom: Losowe powiększanie lub pomniejszanie obrazu może pomóc w zwiększeniu elastyczności modelu.\n",
        "\n",
        "    Zmiana jasności/kontrastu: Losowe zmiany jasności i kontrastu mogą pomóc w zwiększeniu odporności modelu na zmiany oświetlenia.\n",
        "\n",
        "    Rozmycie: Zastosowanie rozmycia Gaussowskiego lub innego rodzaju rozmycia może pomóc w zmniejszeniu nadmiernego dopasowania.\n",
        "\n",
        "    Elastyczne przekształcenia: Zastosowanie elastycznych przekształceń, takich jak deformacje lokalne, może pomóc w zwiększeniu odporności na zniekształcenia.\n",
        "\n",
        "    Dodawanie szumu: Dodanie losowego szumu może pomóc w zwiększeniu ogólnej odporności modelu.\n",
        "\n",
        "    Odbicie lustrzane: Odbicie obrazu w poziomie lub pionie może zwiększyć różnorodność danych.\n",
        "\n",
        "    Kombinacja kilku technik: Często skuteczne jest zastosowanie kombinacji różnych technik augmentacji w celu uzyskania najlepszych rezultatów."
      ],
      "metadata": {
        "id": "wpvrU7GHEfZt"
      }
    },
    {
      "cell_type": "markdown",
      "source": [
        "## Plot"
      ],
      "metadata": {
        "id": "QA4Fp7epXYcm"
      }
    },
    {
      "cell_type": "code",
      "source": [
        "def plot_category_counts(df):\n",
        "    # Counting the number of objects in each category\n",
        "    category_counts = df['Category'].value_counts()\n",
        "\n",
        "    # Creating the bar chart\n",
        "    plt.figure(figsize=(10, 6))\n",
        "    category_counts.plot(kind='bar', color='skyblue')\n",
        "    plt.title('Number of objects in each category')\n",
        "    plt.xlabel('Category')\n",
        "    plt.ylabel('Number of objects')\n",
        "    plt.xticks(rotation=45, ha='right')\n",
        "    plt.tight_layout()\n",
        "    plt.show()"
      ],
      "metadata": {
        "id": "mQ7cXidDXgJT"
      },
      "execution_count": null,
      "outputs": []
    },
    {
      "cell_type": "markdown",
      "source": [
        "# Connect to source and get data"
      ],
      "metadata": {
        "id": "RTzyp7Afi-QP"
      }
    },
    {
      "cell_type": "code",
      "source": [
        "drive.mount('/content/drive')\n",
        "\n",
        "folder_path = Path(r'/content/drive/MyDrive/colab_assets/sea_animals_archive/')"
      ],
      "metadata": {
        "colab": {
          "base_uri": "https://localhost:8080/"
        },
        "id": "03f4SDurOPFo",
        "outputId": "343f0642-db3c-4bde-ad9b-28a7a25f673a"
      },
      "execution_count": 5,
      "outputs": [
        {
          "output_type": "stream",
          "name": "stdout",
          "text": [
            "Mounted at /content/drive\n"
          ]
        }
      ]
    },
    {
      "cell_type": "markdown",
      "source": [
        "# Process and analyze the data"
      ],
      "metadata": {
        "id": "daYnWBq9-f5w"
      }
    },
    {
      "cell_type": "markdown",
      "source": [
        "# Create dataframe"
      ],
      "metadata": {
        "id": "V152uPseC2gV"
      }
    },
    {
      "cell_type": "code",
      "source": [
        "df_animals = create_category_image_path_dataframe(folder_path)\n",
        "df_animals.head(10)"
      ],
      "metadata": {
        "colab": {
          "base_uri": "https://localhost:8080/",
          "height": 363
        },
        "id": "gVxTljGl-cyX",
        "outputId": "f207ff03-d1c5-439e-93d9-f56b86f53378"
      },
      "execution_count": 6,
      "outputs": [
        {
          "output_type": "execute_result",
          "data": {
            "text/plain": [
              "  Category                                         Image_Path\n",
              "0      Eel  /content/drive/MyDrive/colab_assets/sea_animal...\n",
              "1      Eel  /content/drive/MyDrive/colab_assets/sea_animal...\n",
              "2      Eel  /content/drive/MyDrive/colab_assets/sea_animal...\n",
              "3      Eel  /content/drive/MyDrive/colab_assets/sea_animal...\n",
              "4      Eel  /content/drive/MyDrive/colab_assets/sea_animal...\n",
              "5      Eel  /content/drive/MyDrive/colab_assets/sea_animal...\n",
              "6      Eel  /content/drive/MyDrive/colab_assets/sea_animal...\n",
              "7      Eel  /content/drive/MyDrive/colab_assets/sea_animal...\n",
              "8      Eel  /content/drive/MyDrive/colab_assets/sea_animal...\n",
              "9      Eel  /content/drive/MyDrive/colab_assets/sea_animal..."
            ],
            "text/html": [
              "\n",
              "  <div id=\"df-8f350ae3-e254-4f41-b053-3998ca74de9f\" class=\"colab-df-container\">\n",
              "    <div>\n",
              "<style scoped>\n",
              "    .dataframe tbody tr th:only-of-type {\n",
              "        vertical-align: middle;\n",
              "    }\n",
              "\n",
              "    .dataframe tbody tr th {\n",
              "        vertical-align: top;\n",
              "    }\n",
              "\n",
              "    .dataframe thead th {\n",
              "        text-align: right;\n",
              "    }\n",
              "</style>\n",
              "<table border=\"1\" class=\"dataframe\">\n",
              "  <thead>\n",
              "    <tr style=\"text-align: right;\">\n",
              "      <th></th>\n",
              "      <th>Category</th>\n",
              "      <th>Image_Path</th>\n",
              "    </tr>\n",
              "  </thead>\n",
              "  <tbody>\n",
              "    <tr>\n",
              "      <th>0</th>\n",
              "      <td>Eel</td>\n",
              "      <td>/content/drive/MyDrive/colab_assets/sea_animal...</td>\n",
              "    </tr>\n",
              "    <tr>\n",
              "      <th>1</th>\n",
              "      <td>Eel</td>\n",
              "      <td>/content/drive/MyDrive/colab_assets/sea_animal...</td>\n",
              "    </tr>\n",
              "    <tr>\n",
              "      <th>2</th>\n",
              "      <td>Eel</td>\n",
              "      <td>/content/drive/MyDrive/colab_assets/sea_animal...</td>\n",
              "    </tr>\n",
              "    <tr>\n",
              "      <th>3</th>\n",
              "      <td>Eel</td>\n",
              "      <td>/content/drive/MyDrive/colab_assets/sea_animal...</td>\n",
              "    </tr>\n",
              "    <tr>\n",
              "      <th>4</th>\n",
              "      <td>Eel</td>\n",
              "      <td>/content/drive/MyDrive/colab_assets/sea_animal...</td>\n",
              "    </tr>\n",
              "    <tr>\n",
              "      <th>5</th>\n",
              "      <td>Eel</td>\n",
              "      <td>/content/drive/MyDrive/colab_assets/sea_animal...</td>\n",
              "    </tr>\n",
              "    <tr>\n",
              "      <th>6</th>\n",
              "      <td>Eel</td>\n",
              "      <td>/content/drive/MyDrive/colab_assets/sea_animal...</td>\n",
              "    </tr>\n",
              "    <tr>\n",
              "      <th>7</th>\n",
              "      <td>Eel</td>\n",
              "      <td>/content/drive/MyDrive/colab_assets/sea_animal...</td>\n",
              "    </tr>\n",
              "    <tr>\n",
              "      <th>8</th>\n",
              "      <td>Eel</td>\n",
              "      <td>/content/drive/MyDrive/colab_assets/sea_animal...</td>\n",
              "    </tr>\n",
              "    <tr>\n",
              "      <th>9</th>\n",
              "      <td>Eel</td>\n",
              "      <td>/content/drive/MyDrive/colab_assets/sea_animal...</td>\n",
              "    </tr>\n",
              "  </tbody>\n",
              "</table>\n",
              "</div>\n",
              "    <div class=\"colab-df-buttons\">\n",
              "\n",
              "  <div class=\"colab-df-container\">\n",
              "    <button class=\"colab-df-convert\" onclick=\"convertToInteractive('df-8f350ae3-e254-4f41-b053-3998ca74de9f')\"\n",
              "            title=\"Convert this dataframe to an interactive table.\"\n",
              "            style=\"display:none;\">\n",
              "\n",
              "  <svg xmlns=\"http://www.w3.org/2000/svg\" height=\"24px\" viewBox=\"0 -960 960 960\">\n",
              "    <path d=\"M120-120v-720h720v720H120Zm60-500h600v-160H180v160Zm220 220h160v-160H400v160Zm0 220h160v-160H400v160ZM180-400h160v-160H180v160Zm440 0h160v-160H620v160ZM180-180h160v-160H180v160Zm440 0h160v-160H620v160Z\"/>\n",
              "  </svg>\n",
              "    </button>\n",
              "\n",
              "  <style>\n",
              "    .colab-df-container {\n",
              "      display:flex;\n",
              "      gap: 12px;\n",
              "    }\n",
              "\n",
              "    .colab-df-convert {\n",
              "      background-color: #E8F0FE;\n",
              "      border: none;\n",
              "      border-radius: 50%;\n",
              "      cursor: pointer;\n",
              "      display: none;\n",
              "      fill: #1967D2;\n",
              "      height: 32px;\n",
              "      padding: 0 0 0 0;\n",
              "      width: 32px;\n",
              "    }\n",
              "\n",
              "    .colab-df-convert:hover {\n",
              "      background-color: #E2EBFA;\n",
              "      box-shadow: 0px 1px 2px rgba(60, 64, 67, 0.3), 0px 1px 3px 1px rgba(60, 64, 67, 0.15);\n",
              "      fill: #174EA6;\n",
              "    }\n",
              "\n",
              "    .colab-df-buttons div {\n",
              "      margin-bottom: 4px;\n",
              "    }\n",
              "\n",
              "    [theme=dark] .colab-df-convert {\n",
              "      background-color: #3B4455;\n",
              "      fill: #D2E3FC;\n",
              "    }\n",
              "\n",
              "    [theme=dark] .colab-df-convert:hover {\n",
              "      background-color: #434B5C;\n",
              "      box-shadow: 0px 1px 3px 1px rgba(0, 0, 0, 0.15);\n",
              "      filter: drop-shadow(0px 1px 2px rgba(0, 0, 0, 0.3));\n",
              "      fill: #FFFFFF;\n",
              "    }\n",
              "  </style>\n",
              "\n",
              "    <script>\n",
              "      const buttonEl =\n",
              "        document.querySelector('#df-8f350ae3-e254-4f41-b053-3998ca74de9f button.colab-df-convert');\n",
              "      buttonEl.style.display =\n",
              "        google.colab.kernel.accessAllowed ? 'block' : 'none';\n",
              "\n",
              "      async function convertToInteractive(key) {\n",
              "        const element = document.querySelector('#df-8f350ae3-e254-4f41-b053-3998ca74de9f');\n",
              "        const dataTable =\n",
              "          await google.colab.kernel.invokeFunction('convertToInteractive',\n",
              "                                                    [key], {});\n",
              "        if (!dataTable) return;\n",
              "\n",
              "        const docLinkHtml = 'Like what you see? Visit the ' +\n",
              "          '<a target=\"_blank\" href=https://colab.research.google.com/notebooks/data_table.ipynb>data table notebook</a>'\n",
              "          + ' to learn more about interactive tables.';\n",
              "        element.innerHTML = '';\n",
              "        dataTable['output_type'] = 'display_data';\n",
              "        await google.colab.output.renderOutput(dataTable, element);\n",
              "        const docLink = document.createElement('div');\n",
              "        docLink.innerHTML = docLinkHtml;\n",
              "        element.appendChild(docLink);\n",
              "      }\n",
              "    </script>\n",
              "  </div>\n",
              "\n",
              "\n",
              "<div id=\"df-b102f8c6-6305-42b5-84cf-f7c7b0b3adaa\">\n",
              "  <button class=\"colab-df-quickchart\" onclick=\"quickchart('df-b102f8c6-6305-42b5-84cf-f7c7b0b3adaa')\"\n",
              "            title=\"Suggest charts\"\n",
              "            style=\"display:none;\">\n",
              "\n",
              "<svg xmlns=\"http://www.w3.org/2000/svg\" height=\"24px\"viewBox=\"0 0 24 24\"\n",
              "     width=\"24px\">\n",
              "    <g>\n",
              "        <path d=\"M19 3H5c-1.1 0-2 .9-2 2v14c0 1.1.9 2 2 2h14c1.1 0 2-.9 2-2V5c0-1.1-.9-2-2-2zM9 17H7v-7h2v7zm4 0h-2V7h2v10zm4 0h-2v-4h2v4z\"/>\n",
              "    </g>\n",
              "</svg>\n",
              "  </button>\n",
              "\n",
              "<style>\n",
              "  .colab-df-quickchart {\n",
              "      --bg-color: #E8F0FE;\n",
              "      --fill-color: #1967D2;\n",
              "      --hover-bg-color: #E2EBFA;\n",
              "      --hover-fill-color: #174EA6;\n",
              "      --disabled-fill-color: #AAA;\n",
              "      --disabled-bg-color: #DDD;\n",
              "  }\n",
              "\n",
              "  [theme=dark] .colab-df-quickchart {\n",
              "      --bg-color: #3B4455;\n",
              "      --fill-color: #D2E3FC;\n",
              "      --hover-bg-color: #434B5C;\n",
              "      --hover-fill-color: #FFFFFF;\n",
              "      --disabled-bg-color: #3B4455;\n",
              "      --disabled-fill-color: #666;\n",
              "  }\n",
              "\n",
              "  .colab-df-quickchart {\n",
              "    background-color: var(--bg-color);\n",
              "    border: none;\n",
              "    border-radius: 50%;\n",
              "    cursor: pointer;\n",
              "    display: none;\n",
              "    fill: var(--fill-color);\n",
              "    height: 32px;\n",
              "    padding: 0;\n",
              "    width: 32px;\n",
              "  }\n",
              "\n",
              "  .colab-df-quickchart:hover {\n",
              "    background-color: var(--hover-bg-color);\n",
              "    box-shadow: 0 1px 2px rgba(60, 64, 67, 0.3), 0 1px 3px 1px rgba(60, 64, 67, 0.15);\n",
              "    fill: var(--button-hover-fill-color);\n",
              "  }\n",
              "\n",
              "  .colab-df-quickchart-complete:disabled,\n",
              "  .colab-df-quickchart-complete:disabled:hover {\n",
              "    background-color: var(--disabled-bg-color);\n",
              "    fill: var(--disabled-fill-color);\n",
              "    box-shadow: none;\n",
              "  }\n",
              "\n",
              "  .colab-df-spinner {\n",
              "    border: 2px solid var(--fill-color);\n",
              "    border-color: transparent;\n",
              "    border-bottom-color: var(--fill-color);\n",
              "    animation:\n",
              "      spin 1s steps(1) infinite;\n",
              "  }\n",
              "\n",
              "  @keyframes spin {\n",
              "    0% {\n",
              "      border-color: transparent;\n",
              "      border-bottom-color: var(--fill-color);\n",
              "      border-left-color: var(--fill-color);\n",
              "    }\n",
              "    20% {\n",
              "      border-color: transparent;\n",
              "      border-left-color: var(--fill-color);\n",
              "      border-top-color: var(--fill-color);\n",
              "    }\n",
              "    30% {\n",
              "      border-color: transparent;\n",
              "      border-left-color: var(--fill-color);\n",
              "      border-top-color: var(--fill-color);\n",
              "      border-right-color: var(--fill-color);\n",
              "    }\n",
              "    40% {\n",
              "      border-color: transparent;\n",
              "      border-right-color: var(--fill-color);\n",
              "      border-top-color: var(--fill-color);\n",
              "    }\n",
              "    60% {\n",
              "      border-color: transparent;\n",
              "      border-right-color: var(--fill-color);\n",
              "    }\n",
              "    80% {\n",
              "      border-color: transparent;\n",
              "      border-right-color: var(--fill-color);\n",
              "      border-bottom-color: var(--fill-color);\n",
              "    }\n",
              "    90% {\n",
              "      border-color: transparent;\n",
              "      border-bottom-color: var(--fill-color);\n",
              "    }\n",
              "  }\n",
              "</style>\n",
              "\n",
              "  <script>\n",
              "    async function quickchart(key) {\n",
              "      const quickchartButtonEl =\n",
              "        document.querySelector('#' + key + ' button');\n",
              "      quickchartButtonEl.disabled = true;  // To prevent multiple clicks.\n",
              "      quickchartButtonEl.classList.add('colab-df-spinner');\n",
              "      try {\n",
              "        const charts = await google.colab.kernel.invokeFunction(\n",
              "            'suggestCharts', [key], {});\n",
              "      } catch (error) {\n",
              "        console.error('Error during call to suggestCharts:', error);\n",
              "      }\n",
              "      quickchartButtonEl.classList.remove('colab-df-spinner');\n",
              "      quickchartButtonEl.classList.add('colab-df-quickchart-complete');\n",
              "    }\n",
              "    (() => {\n",
              "      let quickchartButtonEl =\n",
              "        document.querySelector('#df-b102f8c6-6305-42b5-84cf-f7c7b0b3adaa button');\n",
              "      quickchartButtonEl.style.display =\n",
              "        google.colab.kernel.accessAllowed ? 'block' : 'none';\n",
              "    })();\n",
              "  </script>\n",
              "</div>\n",
              "    </div>\n",
              "  </div>\n"
            ],
            "application/vnd.google.colaboratory.intrinsic+json": {
              "type": "dataframe",
              "variable_name": "df_animals",
              "summary": "{\n  \"name\": \"df_animals\",\n  \"rows\": 13711,\n  \"fields\": [\n    {\n      \"column\": \"Category\",\n      \"properties\": {\n        \"dtype\": \"category\",\n        \"num_unique_values\": 23,\n        \"samples\": [\n          \"Otter\",\n          \"Corals\",\n          \"Eel\"\n        ],\n        \"semantic_type\": \"\",\n        \"description\": \"\"\n      }\n    },\n    {\n      \"column\": \"Image_Path\",\n      \"properties\": {\n        \"dtype\": \"string\",\n        \"num_unique_values\": 13711,\n        \"samples\": [\n          \"/content/drive/MyDrive/colab_assets/sea_animals_archive/Puffers/33264949820_71704a6232_o.jpg\",\n          \"/content/drive/MyDrive/colab_assets/sea_animals_archive/Turtle_Tortoise/Turtle_Tortoise (136).jpg\",\n          \"/content/drive/MyDrive/colab_assets/sea_animals_archive/Whale/16337413221_f45977d3fc_o.jpg\"\n        ],\n        \"semantic_type\": \"\",\n        \"description\": \"\"\n      }\n    }\n  ]\n}"
            }
          },
          "metadata": {},
          "execution_count": 6
        }
      ]
    },
    {
      "cell_type": "code",
      "source": [
        "import matplotlib.pyplot as plt\n",
        "import random\n",
        "\n",
        "# Create a list of unique categories\n",
        "categories = [f for f in os.listdir(folder_path) if os.path.isdir(os.path.join(folder_path, f))]\n",
        "\n",
        "# Create a grid of plots where each row will contain one randomly selected image from each category\n",
        "fig, axes = plt.subplots(nrows=len(categories), ncols=1, figsize=(5, 5*len(categories)))\n",
        "\n",
        "# Iterate through each category\n",
        "for category, ax in zip(categories, axes):\n",
        "    # Select a random image from the current category\n",
        "    random_image = df_animals[df_animals['Category'] == category].sample(1)\n",
        "    image_path = random_image['Image_Path'].values[0]\n",
        "\n",
        "    # Load and display the image\n",
        "    image = plt.imread(image_path)\n",
        "    ax.imshow(image)\n",
        "    ax.set_title(category)\n",
        "    ax.axis('off')\n",
        "\n",
        "plt.tight_layout()\n",
        "plt.show()"
      ],
      "metadata": {
        "id": "gVUhjy2KWm2G"
      },
      "execution_count": null,
      "outputs": []
    },
    {
      "cell_type": "markdown",
      "source": [
        "## Augmentation"
      ],
      "metadata": {
        "id": "ZymjmS4tCs6_"
      }
    },
    {
      "cell_type": "code",
      "source": [
        "plot_category_counts(df_animals)"
      ],
      "metadata": {
        "colab": {
          "base_uri": "https://localhost:8080/",
          "height": 607
        },
        "id": "8md7I2QcjQLc",
        "outputId": "65e46a40-eb1d-446b-90c6-5713d8adc363"
      },
      "execution_count": 7,
      "outputs": [
        {
          "output_type": "display_data",
          "data": {
            "text/plain": [
              "<Figure size 1000x600 with 1 Axes>"
            ],
            "image/png": "[encoded data removed]"
          },
          "metadata": {}
        }
      ]
    },
    {
      "cell_type": "code",
      "source": [
        "df_animals_balance = balance_dataframe(df_animals)"
      ],
      "metadata": {
        "id": "tzpyzs8APMt3"
      },
      "execution_count": 8,
      "outputs": []
    },
    {
      "cell_type": "code",
      "source": [
        "plot_category_counts(df_animals_balance)"
      ],
      "metadata": {
        "colab": {
          "base_uri": "https://localhost:8080/",
          "height": 607
        },
        "id": "dlnjwk6cD9vg",
        "outputId": "1a7b2407-f5d4-4905-9c57-018df0af2592"
      },
      "execution_count": 9,
      "outputs": [
        {
          "output_type": "display_data",
          "data": {
            "text/plain": [
              "<Figure size 1000x600 with 1 Axes>"
            ],
            "image/png": "[encoded data removed]"
          },
          "metadata": {}
        }
      ]
    },
    {
      "cell_type": "markdown",
      "source": [
        "# Build Model"
      ],
      "metadata": {
        "id": "OizKIHwAFLnc"
      }
    },
    {
      "cell_type": "code",
      "source": [
        "\n",
        "X_train, X_test, y_train, y_test = train_test_split(df_animals_balance.Category, df_animals_balance.Image_Path, test_size=0.15, random_state=42)"
      ],
      "metadata": {
        "id": "rIK93SKREkGO"
      },
      "execution_count": 32,
      "outputs": []
    },
    {
      "cell_type": "code",
      "source": [
        "\n",
        "\n",
        "\n",
        "\n",
        "print(\"folder list: \", folders)"
      ],
      "metadata": {
        "id": "8HHjQ28Y8VEL",
        "outputId": "0f1abbc4-27bd-4126-eebe-57eca43d6df4",
        "colab": {
          "base_uri": "https://localhost:8080/"
        }
      },
      "execution_count": 11,
      "outputs": [
        {
          "output_type": "stream",
          "name": "stdout",
          "text": [
            "folder list:  ['Eel', 'Nudibranchs', 'Clams', 'Jelly Fish', 'Octopus', 'Dolphin', 'Lobster', 'Crabs', 'Fish', 'Corals', 'Penguin', 'Shrimp', 'Seal', 'Squid', 'Puffers', 'Otter', 'Sharks', 'Sea Rays', 'Sea Urchins', 'Seahorse', 'Starfish', 'Turtle_Tortoise', 'Whale']\n"
          ]
        }
      ]
    },
    {
      "cell_type": "code",
      "source": [
        "X_test.head(10)"
      ],
      "metadata": {
        "id": "n4Maj8KUI4DJ",
        "outputId": "0acf4675-a9aa-42b3-de8f-a2c90d1da94a",
        "colab": {
          "base_uri": "https://localhost:8080/"
        }
      },
      "execution_count": 20,
      "outputs": [
        {
          "output_type": "execute_result",
          "data": {
            "text/plain": [
              "8718     /content/drive/MyDrive/colab_assets/sea_animal...\n",
              "8        /content/drive/MyDrive/colab_assets/sea_animal...\n",
              "5360     /content/drive/MyDrive/colab_assets/sea_animal...\n",
              "13306    /content/drive/MyDrive/colab_assets/sea_animal...\n",
              "1041     /content/drive/MyDrive/colab_assets/sea_animal...\n",
              "8810     /content/drive/MyDrive/colab_assets/sea_animal...\n",
              "4969     /content/drive/MyDrive/colab_assets/sea_animal...\n",
              "1633     /content/drive/MyDrive/colab_assets/sea_animal...\n",
              "6303     /content/drive/MyDrive/colab_assets/sea_animal...\n",
              "5371     /content/drive/MyDrive/colab_assets/sea_animal...\n",
              "Name: Image_Path, dtype: object"
            ]
          },
          "metadata": {},
          "execution_count": 20
        }
      ]
    },
    {
      "cell_type": "code",
      "source": [
        "# drive.mount('/content/drive')\n",
        "\n",
        "# folder_path = Path(r'/content/drive/MyDrive/colab_assets/sea_animals_archive/')\n",
        "# df_animals = create_category_image_path_dataframe(folder_path)\n",
        "# df_animals_balance = balance_dataframe(df_animals)\n",
        "df_animals_balance['Image_Path'] = df_animals_balance['Image_Path'].apply(lambda x: os.path.abspath(x))\n",
        "X_train, X_test, y_train, y_test = train_test_split(df_animals_balance.Image_Path, df_animals_balance.Category, test_size=0.15, random_state=42)"
      ],
      "metadata": {
        "id": "tWUFQk2fGGQr"
      },
      "execution_count": 34,
      "outputs": []
    },
    {
      "cell_type": "code",
      "source": [
        "# Import niezbędnych bibliotek\n",
        "from sklearn.model_selection import train_test_split\n",
        "from sklearn.preprocessing import LabelEncoder\n",
        "from sklearn.metrics import classification_report\n",
        "from tensorflow.keras.preprocessing.image import ImageDataGenerator\n",
        "from tensorflow.keras.applications import MobileNetV2\n",
        "from tensorflow.keras.layers import AveragePooling2D, Dropout, Flatten, Dense, Input\n",
        "from tensorflow.keras.models import Model\n",
        "from tensorflow.keras.optimizers import Adam\n",
        "from tensorflow.keras.utils import to_categorical\n",
        "\n",
        "# Zakoduj etykiety kategorii\n",
        "label_encoder = LabelEncoder()\n",
        "y_train_encoded = label_encoder.fit_transform(y_train)\n",
        "y_test_encoded = label_encoder.transform(y_test)\n",
        "\n",
        "# Definicja generatora obrazów dla zbioru treningowego z augmentacją danych\n",
        "train_datagen = ImageDataGenerator(\n",
        "    rescale=1.0/255.0,\n",
        "    rotation_range=20,\n",
        "    zoom_range=0.15,\n",
        "    width_shift_range=0.2,\n",
        "    height_shift_range=0.2,\n",
        "    shear_range=0.15,\n",
        "    horizontal_flip=True,\n",
        "    fill_mode=\"nearest\"\n",
        ")\n",
        "\n",
        "# Definicja generatora obrazów dla zbioru testowego (bez augmentacji)\n",
        "test_datagen = ImageDataGenerator(rescale=1.0/255.0)\n",
        "\n",
        "# Wczytanie i przygotowanie danych treningowych\n",
        "train_generator = train_datagen.flow_from_dataframe(\n",
        "    dataframe=df_animals_balance,\n",
        "    x_col=\"Image_Path\",\n",
        "    y_col=\"Category\",\n",
        "    target_size=(224, 224),  # Rozmiar wejściowy modelu MobileNetV2\n",
        "    batch_size=32,\n",
        "    class_mode=\"categorical\",\n",
        "    shuffle=True\n",
        ")\n",
        "\n",
        "# Wczytanie i przygotowanie danych testowych\n",
        "test_generator = test_datagen.flow_from_dataframe(\n",
        "    dataframe=df_animals_balance,\n",
        "    x_col=\"Image_Path\",\n",
        "    y_col=\"Category\",\n",
        "    target_size=(224, 224),  # Rozmiar wejściowy modelu MobileNetV2\n",
        "    batch_size=32,\n",
        "    class_mode=\"categorical\",\n",
        "    shuffle=False\n",
        ")\n",
        "\n",
        "# Budowa modelu transfer learningu z MobileNetV2\n",
        "base_model = MobileNetV2(weights=\"imagenet\", include_top=False, input_tensor=Input(shape=(224, 224, 3)))\n",
        "\n",
        "# Budowa głowicy klasyfikacyjnej\n",
        "head_model = base_model.output\n",
        "head_model = AveragePooling2D(pool_size=(7, 7))(head_model)\n",
        "head_model = Flatten(name=\"flatten\")(head_model)\n",
        "head_model = Dense(128, activation=\"relu\")(head_model)\n",
        "head_model = Dropout(0.5)(head_model)\n",
        "head_model = Dense(len(label_encoder.classes_), activation=\"softmax\")(head_model)\n",
        "\n",
        "# Połączenie głowicy z bazowym modelem\n",
        "model = Model(inputs=base_model.input, outputs=head_model)\n",
        "\n",
        "# Zamrożenie wag bazowego modelu\n",
        "for layer in base_model.layers:\n",
        "    layer.trainable = False\n",
        "\n",
        "# Kompilacja modelu\n",
        "opt = Adam(lr=1e-4)\n",
        "model.compile(loss=\"categorical_crossentropy\", optimizer=opt, metrics=[\"accuracy\"])\n",
        "\n",
        "# Trenowanie modelu\n",
        "history = model.fit(\n",
        "    train_generator,\n",
        "    steps_per_epoch=train_generator.samples // 32,\n",
        "    validation_data=test_generator,\n",
        "    validation_steps=test_generator.samples // 32,\n",
        "    epochs=20\n",
        ")\n",
        "\n",
        "# Ocena modelu na zbiorze testowym\n",
        "predictions = model.predict(test_generator, steps=test_generator.samples // 32 + 1)\n",
        "predicted_classes = label_encoder.inverse_transform(predictions.argmax(axis=-1))\n",
        "print(classification_report(y_test, predicted_classes))\n"
      ],
      "metadata": {
        "id": "bATL2K9EHY92",
        "outputId": "00162bb5-2192-439d-88bd-e04bf3d22369",
        "colab": {
          "base_uri": "https://localhost:8080/"
        }
      },
      "execution_count": null,
      "outputs": [
        {
          "output_type": "stream",
          "name": "stdout",
          "text": [
            "Found 9522 validated image filenames belonging to 23 classes.\n",
            "Found 9522 validated image filenames belonging to 23 classes.\n"
          ]
        },
        {
          "output_type": "stream",
          "name": "stderr",
          "text": [
            "WARNING:tensorflow:`input_shape` is undefined or non-square, or `rows` is not in [96, 128, 160, 192, 224]. Weights for input shape (224, 224) will be loaded as the default.\n"
          ]
        },
        {
          "output_type": "stream",
          "name": "stdout",
          "text": [
            "Downloading data from https://storage.googleapis.com/tensorflow/keras-applications/mobilenet_v2/mobilenet_v2_weights_tf_dim_ordering_tf_kernels_1.0_224_no_top.h5\n",
            "9406464/9406464 [==============================] - 0s 0us/step\n"
          ]
        },
        {
          "output_type": "stream",
          "name": "stderr",
          "text": [
            "WARNING:absl:`lr` is deprecated in Keras optimizer, please use `learning_rate` or use the legacy optimizer, e.g.,tf.keras.optimizers.legacy.Adam.\n"
          ]
        },
        {
          "output_type": "stream",
          "name": "stdout",
          "text": [
            "Epoch 1/20\n",
            "297/297 [==============================] - 2970s 10s/step - loss: 1.9035 - accuracy: 0.4443 - val_loss: 1.0078 - val_accuracy: 0.6997\n",
            "Epoch 2/20\n",
            "297/297 [==============================] - 1045s 4s/step - loss: 1.3293 - accuracy: 0.5989 - val_loss: 0.8641 - val_accuracy: 0.7413\n",
            "Epoch 3/20\n",
            "297/297 [==============================] - 983s 3s/step - loss: 1.2197 - accuracy: 0.6326 - val_loss: 0.7943 - val_accuracy: 0.7648\n",
            "Epoch 4/20\n",
            "297/297 [==============================] - ETA: 0s - loss: 1.1524 - accuracy: 0.6573"
          ]
        }
      ]
    },
    {
      "cell_type": "code",
      "source": [
        "print(df_animals_balance.head())"
      ],
      "metadata": {
        "id": "UTTY4aeQJ56d",
        "outputId": "c9d5c41b-0460-4fe8-82d3-2c03ae23014c",
        "colab": {
          "base_uri": "https://localhost:8080/"
        }
      },
      "execution_count": 31,
      "outputs": [
        {
          "output_type": "stream",
          "name": "stdout",
          "text": [
            "     Category                                         Image_Path\n",
            "1480    Clams  /content/drive/MyDrive/colab_assets/sea_animal...\n",
            "1070    Clams  /content/drive/MyDrive/colab_assets/sea_animal...\n",
            "1228    Clams  /content/drive/MyDrive/colab_assets/sea_animal...\n",
            "1172    Clams  /content/drive/MyDrive/colab_assets/sea_animal...\n",
            "1234    Clams  /content/drive/MyDrive/colab_assets/sea_animal...\n"
          ]
        }
      ]
    },
    {
      "cell_type": "code",
      "source": [],
      "metadata": {
        "id": "T2z-Y6hnJ6Jy"
      },
      "execution_count": null,
      "outputs": []
    }
  ]
}